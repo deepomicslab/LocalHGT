{
 "cells": [
  {
   "cell_type": "code",
   "execution_count": 1,
   "metadata": {},
   "outputs": [],
   "source": [
    "import numpy as np\n",
    "import network\n",
    "import svg_draw\n"
   ]
  },
  {
   "cell_type": "code",
   "execution_count": 7,
   "metadata": {},
   "outputs": [],
   "source": [
    "# draw\n",
    "def draw(width, origin, polar_df):\n",
    "    content = \"\"\n",
    "    for idx in polar_df.index:\n",
    "        theta = polar_df.loc[idx, 'theta']\n",
    "        r = polar_df.loc[idx, 'r']\n",
    "        color = polar_df.loc[idx, 'color']\n",
    "        x, y = network.convert(theta, r, origin)\n",
    "        circle = svg_draw.draw_circle(x, y, r=\"5\", fill=color, style=True)\n",
    "        content += circle\n",
    "    canvas = svg_draw.canvas(width, width, content)\n",
    "    return canvas\n"
   ]
  },
  {
   "cell_type": "code",
   "execution_count": 3,
   "metadata": {},
   "outputs": [],
   "source": [
    "nnode = 1000\n",
    "rnode = 5\n",
    "colors_dict = {'red': 300, 'blue': 180, 'orange': 140, 'yellow': 100, 'green':90, 'purple':80, 'aqua': 75, 'grey':35}\n",
    "width, origin, polar_df = network.assign_pos(nnode, rnode)\n"
   ]
  },
  {
   "cell_type": "code",
   "execution_count": 4,
   "metadata": {},
   "outputs": [],
   "source": [
    "# test sector_layout\n",
    "layout = network.sector_layout(colors_dict, polar_df)\n",
    "s = draw(width, origin, layout)\n",
    "with open('sector.svg', 'w') as fp:\n",
    "    fp.write(s)"
   ]
  },
  {
   "cell_type": "code",
   "execution_count": 8,
   "metadata": {},
   "outputs": [],
   "source": [
    "# test scale_layout\n",
    "layout, seeds = network.scale_layout(colors_dict, polar_df, width)\n",
    "s = draw(width, origin, layout)\n",
    "with open('scale.svg', 'w') as fp:\n",
    "    fp.write(s)"
   ]
  },
  {
   "cell_type": "code",
   "execution_count": 6,
   "metadata": {},
   "outputs": [],
   "source": [
    "# test ring_layout\n",
    "layout = network.ring_layout(colors_dict, polar_df)\n",
    "s = draw(width, origin, layout)\n",
    "with open('ring.svg', 'w') as fp:\n",
    "    fp.write(s)"
   ]
  }
 ],
 "metadata": {
  "kernelspec": {
   "display_name": "base",
   "language": "python",
   "name": "python3"
  },
  "language_info": {
   "codemirror_mode": {
    "name": "ipython",
    "version": 3
   },
   "file_extension": ".py",
   "mimetype": "text/x-python",
   "name": "python",
   "nbconvert_exporter": "python",
   "pygments_lexer": "ipython3",
   "version": "3.8.5"
  },
  "orig_nbformat": 4
 },
 "nbformat": 4,
 "nbformat_minor": 2
}
