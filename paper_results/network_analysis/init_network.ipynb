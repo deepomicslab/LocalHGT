{
 "cells": [
  {
   "cell_type": "code",
   "execution_count": 1,
   "metadata": {},
   "outputs": [],
   "source": [
    "import sys\n",
    "sys.path.append('network')\n",
    "import network\n",
    "import pandas as pd\n",
    "import copy\n",
    "\n",
    "\n",
    "colors = {\n",
    "        'p__Firmicutes_A': '#1B9E77', \n",
    "        'p__Bacteroidota': '#D95F02', \n",
    "        'p__Firmicutes': '#7570B3', \n",
    "        'p__Proteobacteria': '#E7298A', \n",
    "        'p__Actinobacteriota': '#66A61E', \n",
    "        'p__Firmicutes_C': '#E6AB02', \n",
    "        'p__Verrucomicrobiota': '#A6761D', \n",
    "        'p__Firmicutes_B': '#E41A1C', \n",
    "        'p__Cyanobacteria': '#377EB8', \n",
    "        'p__Fusobacteriota': '#FFFF33',\n",
    "        'other': '#AAAAAA'}\n",
    "\n",
    "\n",
    "\n",
    "colors_reverse = {}\n",
    "phy_table = pd.read_csv('data/species_phylum_pair.csv', header=0, index_col=0)\n",
    "colors_dict = {}\n",
    "phy_dict = {}\n",
    "for phy, color in colors.items():\n",
    "    colors_dict[color] = 0\n",
    "    colors_reverse[color] = phy\n",
    "    phy_dict[phy] = []\n",
    "total_num = phy_table.shape[0]\n",
    "\n",
    "for i in range(total_num):\n",
    "    sp = phy_table.iloc[i, 0]\n",
    "    phy = phy_table.iloc[i, 1]\n",
    "    #print(phy, sp)\n",
    "    if phy not in colors.keys():\n",
    "        phy = 'other'\n",
    "    colors_dict[colors[phy]] += 1\n",
    "    phy_dict[phy].append(sp)\n",
    "\n",
    "rnode = 5\n",
    "width, origin, polar_df = network.assign_pos(total_num, rnode, margin=0)\n"
   ]
  },
  {
   "cell_type": "code",
   "execution_count": 2,
   "metadata": {},
   "outputs": [],
   "source": [
    "\n",
    "def complete_df(layout, phy_dict, colors_reverse):\n",
    "    col_order = ['id', 'theta', 'r', 'color', 'phy']\n",
    "    for idx in layout.index:\n",
    "        color = layout.loc[idx, 'color'] \n",
    "        phy = colors_reverse[color]\n",
    "        #print(color, phy)\n",
    "        layout.loc[idx, 'id'] = phy_dict[phy].pop()\n",
    "        layout.loc[idx, 'phy'] = phy\n",
    "    return layout[col_order]\n"
   ]
  },
  {
   "cell_type": "code",
   "execution_count": 3,
   "metadata": {},
   "outputs": [],
   "source": [
    "# test sector_layout\n",
    "layout = network.sector_layout(colors_dict, polar_df)\n",
    "complete_df(layout, copy.deepcopy(phy_dict), colors_reverse).to_csv(\"sector_sp_layout.tsv\", sep='\\t', index=None)\n",
    "\n",
    "with open('config.txt', 'w') as fp:\n",
    "    fp.write(\"width = {}\\norigin = {},{}\\nr = {}\".format(width, origin[0], origin[1], rnode))"
   ]
  },
  {
   "cell_type": "code",
   "execution_count": null,
   "metadata": {},
   "outputs": [],
   "source": []
  }
 ],
 "metadata": {
  "kernelspec": {
   "display_name": "base",
   "language": "python",
   "name": "python3"
  },
  "language_info": {
   "codemirror_mode": {
    "name": "ipython",
    "version": 3
   },
   "file_extension": ".py",
   "mimetype": "text/x-python",
   "name": "python",
   "nbconvert_exporter": "python",
   "pygments_lexer": "ipython3",
   "version": "3.9.2"
  },
  "orig_nbformat": 4
 },
 "nbformat": 4,
 "nbformat_minor": 2
}
