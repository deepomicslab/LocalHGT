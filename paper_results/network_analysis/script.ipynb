{
 "cells": [
  {
   "cell_type": "code",
   "execution_count": 1,
   "metadata": {},
   "outputs": [],
   "source": [
    "from sknetwork.ranking import PageRank\n",
    "import numpy as np\n",
    "import os\n",
    "import pandas as pd\n",
    "\n",
    "def pr(adjacency):\n",
    "    pagerank = PageRank()\n",
    "    scores = pagerank.fit_predict(adjacency)\n",
    "    sp_idx = np.argmax(scores)\n",
    "    return sp_idx, scores"
   ]
  },
  {
   "cell_type": "code",
   "execution_count": 4,
   "metadata": {},
   "outputs": [],
   "source": [
    "indir = 'data/species_graph'\n",
    "odir = 'result'\n",
    "for file in os.listdir(indir):\n",
    "    postfix = file.split('.')[0]\n",
    "    adj_df = pd.read_csv(os.path.join(indir, file), header=0, index_col=0)\n",
    "    adj_df.drop(['s__'], axis=0, inplace=True)\n",
    "    adj_df.drop(['s__'], axis=1, inplace=True)\n",
    "    sp_idx, scores = pr(adj_df.values)\n",
    "    node_df = pd.DataFrame(index=adj_df.index, columns=['pr', 'eigen'])\n",
    "    node_df['pr'] = scores\n",
    "    node_df.fillna(False, inplace=True)\n",
    "    node_df.iloc[sp_idx, 1] = True\n",
    "\n",
    "    od = os.path.join(odir, postfix)\n",
    "    if not os.path.exists(od):\n",
    "        os.makedirs(od)\n",
    "    node_df.sort_values(by='pr',ascending=False, inplace=True)\n",
    "    adj_df.to_csv(os.path.join(od, 'adj.tsv'), sep='\\t')\n",
    "    node_df.to_csv(os.path.join(od, 'eigen.tsv'), sep='\\t')\n"
   ]
  },
  {
   "cell_type": "code",
   "execution_count": null,
   "metadata": {},
   "outputs": [],
   "source": []
  }
 ],
 "metadata": {
  "kernelspec": {
   "display_name": "Python 3",
   "language": "python",
   "name": "python3"
  },
  "language_info": {
   "codemirror_mode": {
    "name": "ipython",
    "version": 3
   },
   "file_extension": ".py",
   "mimetype": "text/x-python",
   "name": "python",
   "nbconvert_exporter": "python",
   "pygments_lexer": "ipython3",
   "version": "3.9.2"
  }
 },
 "nbformat": 4,
 "nbformat_minor": 2
}
